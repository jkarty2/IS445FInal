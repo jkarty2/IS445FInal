{
 "cells": [
  {
   "cell_type": "markdown",
   "id": "c036f97f",
   "metadata": {},
   "source": [
    "# We are the Champions, No time for a looser\n",
    "\n",
    "###  A deep dive into the storied legacy of the Womens Solheim Cup \n",
    "\n",
    "#### by Jacob Karty\n",
    "\n"
   ]
  },
  {
   "cell_type": "markdown",
   "id": "ce0a4d5b",
   "metadata": {},
   "source": [
    "The Solheim Cup is akini to the mens Ryder cup, it is a biiennial professional womens golf tournament that take place between players of European nationality and American nationality. Founded in 1990, the US womens team has been dominant over the 17 meetiings winning ten. Over the course of the last 30 years numerous competitors have been apart of the winning tradition.\n",
    "\n",
    "This interactive article will take a look at the women who where involded in those wins, and how those wins were achived. In this data set, we will look at the data from 1990 until 2017, lookiing at the data to see if we can make an educated guess at how 2019 will turn out. At the end we will see how we did!\n",
    "\n"
   ]
  },
  {
   "cell_type": "markdown",
   "id": "5d83a96f",
   "metadata": {},
   "source": [
    "### Who is on the team\n",
    "\n",
    "First lets take a look at who is on the 2019 teams and, if they have competed in the past, see how they have done. \n"
   ]
  },
  {
   "cell_type": "code",
   "execution_count": 1,
   "id": "e08549e2",
   "metadata": {},
   "outputs": [],
   "source": [
    "import pandas as pd\n",
    "import numpy as np\n",
    "import arrow\n",
    "import matplotlib\n",
    "import matplotlib.pyplot as plt\n",
    "from matplotlib.pyplot import figure\n",
    "import ipywidgets as widgets\n",
    "from ipywidgets import interact, interact_manual\n",
    "\n",
    "data = pd.read_excel(\"SolhiemCup.xlsx\")\n",
    "xlsx = pd.ExcelFile('SolhiemCup.xlsx')\n"
   ]
  },
  {
   "cell_type": "code",
   "execution_count": 2,
   "id": "f596b6e6",
   "metadata": {},
   "outputs": [],
   "source": [
    "Teams_19  = pd.read_excel(xlsx, sheet_name=\"2019 Teams\")\n"
   ]
  },
  {
   "cell_type": "markdown",
   "id": "8d1982a4",
   "metadata": {},
   "source": [
    "## How each team stacks up "
   ]
  },
  {
   "cell_type": "code",
   "execution_count": 3,
   "id": "28608763",
   "metadata": {},
   "outputs": [
    {
     "data": {
      "application/vnd.jupyter.widget-view+json": {
       "model_id": "fe37982196984e70a763d8fb488bddac",
       "version_major": 2,
       "version_minor": 0
      },
      "text/plain": [
       "interactive(children=(Dropdown(description='column', options=('Age', 'Previous appearances'), value='Age'), In…"
      ]
     },
     "metadata": {},
     "output_type": "display_data"
    }
   ],
   "source": [
    "@interact\n",
    "def show_articles_more_than(column=['Age', 'Previous appearances'], \n",
    "                            x=(0, 58, 1)):\n",
    "    return Teams_19.loc[Teams_19[column] > x]"
   ]
  },
  {
   "cell_type": "markdown",
   "id": "4025f5ee",
   "metadata": {},
   "source": [
    "Taking a look at the teams competing, the European team has far more expearience than the Americans. With 3 rookiies opposed to an American 5. Inspecting the data by Age and number of appearances, the European team has got an advantage in enxperance and age. But age and experience do not mean everything..."
   ]
  },
  {
   "cell_type": "markdown",
   "id": "9f0a9065",
   "metadata": {},
   "source": [
    "## What does a win even mean?\n",
    "\n",
    "Since the Solheim Cup consists of three differnt formats all earning the team the same ammount of points, there could be an advantage in each format? Lets take a look at Wins per format verse eachother for those with experience."
   ]
  },
  {
   "cell_type": "code",
   "execution_count": 4,
   "id": "38850286",
   "metadata": {},
   "outputs": [
    {
     "data": {
      "text/html": [
       "<div>\n",
       "<style scoped>\n",
       "    .dataframe tbody tr th:only-of-type {\n",
       "        vertical-align: middle;\n",
       "    }\n",
       "\n",
       "    .dataframe tbody tr th {\n",
       "        vertical-align: top;\n",
       "    }\n",
       "\n",
       "    .dataframe thead th {\n",
       "        text-align: right;\n",
       "    }\n",
       "</style>\n",
       "<table border=\"1\" class=\"dataframe\">\n",
       "  <thead>\n",
       "    <tr style=\"text-align: right;\">\n",
       "      <th></th>\n",
       "      <th>Player</th>\n",
       "      <th>First Year</th>\n",
       "      <th>Last Year</th>\n",
       "      <th>Cups</th>\n",
       "      <th>Matches</th>\n",
       "      <th>Points</th>\n",
       "      <th>Winning %</th>\n",
       "      <th>Overall Wins</th>\n",
       "      <th>Overall Loss</th>\n",
       "      <th>Overall Halve</th>\n",
       "      <th>Singles Wins</th>\n",
       "      <th>Singles Loss</th>\n",
       "      <th>Singles Halves</th>\n",
       "      <th>Foursome Wins</th>\n",
       "      <th>Foursome Loss</th>\n",
       "      <th>Foursome Halves</th>\n",
       "      <th>Fourball Wins</th>\n",
       "      <th>Fourball Loss</th>\n",
       "      <th>Fourball Halves</th>\n",
       "    </tr>\n",
       "  </thead>\n",
       "  <tbody>\n",
       "    <tr>\n",
       "      <th>20</th>\n",
       "      <td>Danielle Kang</td>\n",
       "      <td>2017</td>\n",
       "      <td>2017</td>\n",
       "      <td>1</td>\n",
       "      <td>4</td>\n",
       "      <td>3.0</td>\n",
       "      <td>0.7500</td>\n",
       "      <td>3</td>\n",
       "      <td>1</td>\n",
       "      <td>0</td>\n",
       "      <td>1</td>\n",
       "      <td>0</td>\n",
       "      <td>0</td>\n",
       "      <td>1</td>\n",
       "      <td>1</td>\n",
       "      <td>0</td>\n",
       "      <td>1</td>\n",
       "      <td>0</td>\n",
       "      <td>0</td>\n",
       "    </tr>\n",
       "    <tr>\n",
       "      <th>25</th>\n",
       "      <td>Jessica Korda</td>\n",
       "      <td>2013</td>\n",
       "      <td>2013</td>\n",
       "      <td>1</td>\n",
       "      <td>4</td>\n",
       "      <td>1.5</td>\n",
       "      <td>0.3750</td>\n",
       "      <td>1</td>\n",
       "      <td>2</td>\n",
       "      <td>1</td>\n",
       "      <td>0</td>\n",
       "      <td>0</td>\n",
       "      <td>1</td>\n",
       "      <td>1</td>\n",
       "      <td>1</td>\n",
       "      <td>0</td>\n",
       "      <td>0</td>\n",
       "      <td>1</td>\n",
       "      <td>0</td>\n",
       "    </tr>\n",
       "    <tr>\n",
       "      <th>29</th>\n",
       "      <td>Stacy Lewis</td>\n",
       "      <td>2011</td>\n",
       "      <td>2017</td>\n",
       "      <td>4</td>\n",
       "      <td>16</td>\n",
       "      <td>5.5</td>\n",
       "      <td>0.3438</td>\n",
       "      <td>5</td>\n",
       "      <td>10</td>\n",
       "      <td>1</td>\n",
       "      <td>0</td>\n",
       "      <td>3</td>\n",
       "      <td>1</td>\n",
       "      <td>2</td>\n",
       "      <td>6</td>\n",
       "      <td>0</td>\n",
       "      <td>3</td>\n",
       "      <td>1</td>\n",
       "      <td>0</td>\n",
       "    </tr>\n",
       "    <tr>\n",
       "      <th>39</th>\n",
       "      <td>Morgan Pressel</td>\n",
       "      <td>2007</td>\n",
       "      <td>2015</td>\n",
       "      <td>5</td>\n",
       "      <td>19</td>\n",
       "      <td>11.0</td>\n",
       "      <td>0.5789</td>\n",
       "      <td>10</td>\n",
       "      <td>7</td>\n",
       "      <td>2</td>\n",
       "      <td>4</td>\n",
       "      <td>1</td>\n",
       "      <td>0</td>\n",
       "      <td>4</td>\n",
       "      <td>3</td>\n",
       "      <td>0</td>\n",
       "      <td>2</td>\n",
       "      <td>3</td>\n",
       "      <td>2</td>\n",
       "    </tr>\n",
       "    <tr>\n",
       "      <th>43</th>\n",
       "      <td>Lizette Salas</td>\n",
       "      <td>2013</td>\n",
       "      <td>2017</td>\n",
       "      <td>3</td>\n",
       "      <td>10</td>\n",
       "      <td>5.0</td>\n",
       "      <td>0.5000</td>\n",
       "      <td>4</td>\n",
       "      <td>4</td>\n",
       "      <td>2</td>\n",
       "      <td>2</td>\n",
       "      <td>0</td>\n",
       "      <td>1</td>\n",
       "      <td>1</td>\n",
       "      <td>2</td>\n",
       "      <td>1</td>\n",
       "      <td>1</td>\n",
       "      <td>2</td>\n",
       "      <td>0</td>\n",
       "    </tr>\n",
       "    <tr>\n",
       "      <th>49</th>\n",
       "      <td>Lexi Thompson</td>\n",
       "      <td>2013</td>\n",
       "      <td>2017</td>\n",
       "      <td>3</td>\n",
       "      <td>11</td>\n",
       "      <td>7.0</td>\n",
       "      <td>0.6364</td>\n",
       "      <td>5</td>\n",
       "      <td>2</td>\n",
       "      <td>4</td>\n",
       "      <td>1</td>\n",
       "      <td>0</td>\n",
       "      <td>2</td>\n",
       "      <td>2</td>\n",
       "      <td>0</td>\n",
       "      <td>1</td>\n",
       "      <td>2</td>\n",
       "      <td>2</td>\n",
       "      <td>1</td>\n",
       "    </tr>\n",
       "    <tr>\n",
       "      <th>52</th>\n",
       "      <td>Angel Yin</td>\n",
       "      <td>2017</td>\n",
       "      <td>2017</td>\n",
       "      <td>1</td>\n",
       "      <td>3</td>\n",
       "      <td>1.5</td>\n",
       "      <td>0.5000</td>\n",
       "      <td>1</td>\n",
       "      <td>1</td>\n",
       "      <td>1</td>\n",
       "      <td>0</td>\n",
       "      <td>0</td>\n",
       "      <td>1</td>\n",
       "      <td>0</td>\n",
       "      <td>0</td>\n",
       "      <td>0</td>\n",
       "      <td>1</td>\n",
       "      <td>1</td>\n",
       "      <td>0</td>\n",
       "    </tr>\n",
       "  </tbody>\n",
       "</table>\n",
       "</div>"
      ],
      "text/plain": [
       "            Player  First Year  Last Year  Cups  Matches  Points  Winning %  \\\n",
       "20   Danielle Kang        2017       2017     1        4     3.0     0.7500   \n",
       "25   Jessica Korda        2013       2013     1        4     1.5     0.3750   \n",
       "29     Stacy Lewis        2011       2017     4       16     5.5     0.3438   \n",
       "39  Morgan Pressel        2007       2015     5       19    11.0     0.5789   \n",
       "43   Lizette Salas        2013       2017     3       10     5.0     0.5000   \n",
       "49   Lexi Thompson        2013       2017     3       11     7.0     0.6364   \n",
       "52       Angel Yin        2017       2017     1        3     1.5     0.5000   \n",
       "\n",
       "    Overall Wins  Overall Loss  Overall Halve  Singles Wins  Singles Loss  \\\n",
       "20             3             1              0             1             0   \n",
       "25             1             2              1             0             0   \n",
       "29             5            10              1             0             3   \n",
       "39            10             7              2             4             1   \n",
       "43             4             4              2             2             0   \n",
       "49             5             2              4             1             0   \n",
       "52             1             1              1             0             0   \n",
       "\n",
       "    Singles Halves  Foursome Wins  Foursome Loss  Foursome Halves  \\\n",
       "20               0              1              1                0   \n",
       "25               1              1              1                0   \n",
       "29               1              2              6                0   \n",
       "39               0              4              3                0   \n",
       "43               1              1              2                1   \n",
       "49               2              2              0                1   \n",
       "52               1              0              0                0   \n",
       "\n",
       "    Fourball Wins  Fourball Loss  Fourball Halves  \n",
       "20              1              0                0  \n",
       "25              0              1                0  \n",
       "29              3              1                0  \n",
       "39              2              3                2  \n",
       "43              1              2                0  \n",
       "49              2              2                1  \n",
       "52              1              1                0  "
      ]
     },
     "execution_count": 4,
     "metadata": {},
     "output_type": "execute_result"
    }
   ],
   "source": [
    "Teams_eu_19_exp = pd.read_excel(xlsx, sheet_name=\"Europe Player History\")\n",
    "Teams_us_19_exp = pd.read_excel(xlsx, sheet_name=\"US Player History\")\n",
    "experience_19eu = Teams_eu_19_exp[Teams_eu_19_exp.Player.isin(Teams_19.Player)]\n",
    "winlosseu = experience_19eu.drop(columns= ['Country','First Year', 'Cups', 'Matches', 'Points', 'Winning %'])\n",
    "experience_19US = Teams_us_19_exp[Teams_us_19_exp.Player.isin(Teams_19.Player)]\n",
    "winlossus = experience_19US.drop(columns= ['First Year', 'Cups', 'Matches', 'Points', 'Winning %']) \n",
    "experience_19US"
   ]
  },
  {
   "cell_type": "markdown",
   "id": "0573d6e0",
   "metadata": {},
   "source": [
    "Lets compare the formats wins and losses! \n",
    "After finding a unique viz too Pygal, we will use that to show the differences in wins and losses!"
   ]
  },
  {
   "cell_type": "code",
   "execution_count": 5,
   "id": "b31e0a1b",
   "metadata": {},
   "outputs": [],
   "source": [
    "import pygal\n",
    "from IPython.display import display, HTML\n",
    "\n",
    "\n",
    "base_html = \"\"\"\n",
    "<!DOCTYPE html>\n",
    "<html>\n",
    "  <head>\n",
    "  <script type=\"text/javascript\" src=\"http://kozea.github.com/pygal.js/javascripts/svg.jquery.js\"></script>\n",
    "  <script type=\"text/javascript\" src=\"https://kozea.github.io/pygal.js/2.0.x/pygal-tooltips.min.js\"\"></script>\n",
    "  </head>\n",
    "  <body>\n",
    "    <figure>\n",
    "      {rendered_chart}\n",
    "    </figure>\n",
    "  </body>\n",
    "</html>\n",
    "\"\"\""
   ]
  },
  {
   "cell_type": "code",
   "execution_count": 6,
   "id": "269ad64c",
   "metadata": {},
   "outputs": [
    {
     "data": {
      "text/html": [
       "\n",
       "<!DOCTYPE html>\n",
       "<html>\n",
       "  <head>\n",
       "  <script type=\"text/javascript\" src=\"http://kozea.github.com/pygal.js/javascripts/svg.jquery.js\"></script>\n",
       "  <script type=\"text/javascript\" src=\"https://kozea.github.io/pygal.js/2.0.x/pygal-tooltips.min.js\"\"></script>\n",
       "  </head>\n",
       "  <body>\n",
       "    <figure>\n",
       "      <?xml version='1.0' encoding='utf-8'?>\n",
       "<svg xmlns=\"http://www.w3.org/2000/svg\" xmlns:xlink=\"http://www.w3.org/1999/xlink\" id=\"chart-b7b8ac10-219c-4399-aa39-fed860471909\" class=\"pygal-chart\" viewBox=\"0 0 800 600\"><!--Generated with pygal 3.0.0 (lxml) ©Kozea 2012-2016 on 2022-05-05--><!--http://pygal.org--><!--http://github.com/Kozea/pygal--><defs><style type=\"text/css\">#chart-b7b8ac10-219c-4399-aa39-fed860471909{-webkit-user-select:none;-webkit-font-smoothing:antialiased;font-family:Consolas,\"Liberation Mono\",Menlo,Courier,monospace}#chart-b7b8ac10-219c-4399-aa39-fed860471909 .title{font-family:Consolas,\"Liberation Mono\",Menlo,Courier,monospace;font-size:16px}#chart-b7b8ac10-219c-4399-aa39-fed860471909 .legends .legend text{font-family:Consolas,\"Liberation Mono\",Menlo,Courier,monospace;font-size:14px}#chart-b7b8ac10-219c-4399-aa39-fed860471909 .axis text{font-family:Consolas,\"Liberation Mono\",Menlo,Courier,monospace;font-size:10px}#chart-b7b8ac10-219c-4399-aa39-fed860471909 .axis text.major{font-family:Consolas,\"Liberation Mono\",Menlo,Courier,monospace;font-size:10px}#chart-b7b8ac10-219c-4399-aa39-fed860471909 .text-overlay text.value{font-family:Consolas,\"Liberation Mono\",Menlo,Courier,monospace;font-size:16px}#chart-b7b8ac10-219c-4399-aa39-fed860471909 .text-overlay text.label{font-family:Consolas,\"Liberation Mono\",Menlo,Courier,monospace;font-size:10px}#chart-b7b8ac10-219c-4399-aa39-fed860471909 .tooltip{font-family:Consolas,\"Liberation Mono\",Menlo,Courier,monospace;font-size:14px}#chart-b7b8ac10-219c-4399-aa39-fed860471909 text.no_data{font-family:Consolas,\"Liberation Mono\",Menlo,Courier,monospace;font-size:64px}\n",
       "#chart-b7b8ac10-219c-4399-aa39-fed860471909{background-color:rgba(249,249,249,1)}#chart-b7b8ac10-219c-4399-aa39-fed860471909 path,#chart-b7b8ac10-219c-4399-aa39-fed860471909 line,#chart-b7b8ac10-219c-4399-aa39-fed860471909 rect,#chart-b7b8ac10-219c-4399-aa39-fed860471909 circle{-webkit-transition:150ms;-moz-transition:150ms;transition:150ms}#chart-b7b8ac10-219c-4399-aa39-fed860471909 .graph &gt; .background{fill:rgba(249,249,249,1)}#chart-b7b8ac10-219c-4399-aa39-fed860471909 .plot &gt; .background{fill:rgba(255,255,255,1)}#chart-b7b8ac10-219c-4399-aa39-fed860471909 .graph{fill:rgba(0,0,0,.87)}#chart-b7b8ac10-219c-4399-aa39-fed860471909 text.no_data{fill:rgba(0,0,0,1)}#chart-b7b8ac10-219c-4399-aa39-fed860471909 .title{fill:rgba(0,0,0,1)}#chart-b7b8ac10-219c-4399-aa39-fed860471909 .legends .legend text{fill:rgba(0,0,0,.87)}#chart-b7b8ac10-219c-4399-aa39-fed860471909 .legends .legend:hover text{fill:rgba(0,0,0,1)}#chart-b7b8ac10-219c-4399-aa39-fed860471909 .axis .line{stroke:rgba(0,0,0,1)}#chart-b7b8ac10-219c-4399-aa39-fed860471909 .axis .guide.line{stroke:rgba(0,0,0,.54)}#chart-b7b8ac10-219c-4399-aa39-fed860471909 .axis .major.line{stroke:rgba(0,0,0,.87)}#chart-b7b8ac10-219c-4399-aa39-fed860471909 .axis text.major{fill:rgba(0,0,0,1)}#chart-b7b8ac10-219c-4399-aa39-fed860471909 .axis.y .guides:hover .guide.line,#chart-b7b8ac10-219c-4399-aa39-fed860471909 .line-graph .axis.x .guides:hover .guide.line,#chart-b7b8ac10-219c-4399-aa39-fed860471909 .stackedline-graph .axis.x .guides:hover .guide.line,#chart-b7b8ac10-219c-4399-aa39-fed860471909 .xy-graph .axis.x .guides:hover .guide.line{stroke:rgba(0,0,0,1)}#chart-b7b8ac10-219c-4399-aa39-fed860471909 .axis .guides:hover text{fill:rgba(0,0,0,1)}#chart-b7b8ac10-219c-4399-aa39-fed860471909 .reactive{fill-opacity:.7;stroke-opacity:.8;stroke-width:1}#chart-b7b8ac10-219c-4399-aa39-fed860471909 .ci{stroke:rgba(0,0,0,.87)}#chart-b7b8ac10-219c-4399-aa39-fed860471909 .reactive.active,#chart-b7b8ac10-219c-4399-aa39-fed860471909 .active .reactive{fill-opacity:.8;stroke-opacity:.9;stroke-width:4}#chart-b7b8ac10-219c-4399-aa39-fed860471909 .ci .reactive.active{stroke-width:1.5}#chart-b7b8ac10-219c-4399-aa39-fed860471909 .series text{fill:rgba(0,0,0,1)}#chart-b7b8ac10-219c-4399-aa39-fed860471909 .tooltip rect{fill:rgba(255,255,255,1);stroke:rgba(0,0,0,1);-webkit-transition:opacity 150ms;-moz-transition:opacity 150ms;transition:opacity 150ms}#chart-b7b8ac10-219c-4399-aa39-fed860471909 .tooltip .label{fill:rgba(0,0,0,.87)}#chart-b7b8ac10-219c-4399-aa39-fed860471909 .tooltip .label{fill:rgba(0,0,0,.87)}#chart-b7b8ac10-219c-4399-aa39-fed860471909 .tooltip .legend{font-size:.8em;fill:rgba(0,0,0,.54)}#chart-b7b8ac10-219c-4399-aa39-fed860471909 .tooltip .x_label{font-size:.6em;fill:rgba(0,0,0,1)}#chart-b7b8ac10-219c-4399-aa39-fed860471909 .tooltip .xlink{font-size:.5em;text-decoration:underline}#chart-b7b8ac10-219c-4399-aa39-fed860471909 .tooltip .value{font-size:1.5em}#chart-b7b8ac10-219c-4399-aa39-fed860471909 .bound{font-size:.5em}#chart-b7b8ac10-219c-4399-aa39-fed860471909 .max-value{font-size:.75em;fill:rgba(0,0,0,.54)}#chart-b7b8ac10-219c-4399-aa39-fed860471909 .map-element{fill:rgba(255,255,255,1);stroke:rgba(0,0,0,.54) !important}#chart-b7b8ac10-219c-4399-aa39-fed860471909 .map-element .reactive{fill-opacity:inherit;stroke-opacity:inherit}#chart-b7b8ac10-219c-4399-aa39-fed860471909 .color-0,#chart-b7b8ac10-219c-4399-aa39-fed860471909 .color-0 a:visited{stroke:#F44336;fill:#F44336}#chart-b7b8ac10-219c-4399-aa39-fed860471909 .color-1,#chart-b7b8ac10-219c-4399-aa39-fed860471909 .color-1 a:visited{stroke:#3F51B5;fill:#3F51B5}#chart-b7b8ac10-219c-4399-aa39-fed860471909 .text-overlay .color-0 text{fill:black}#chart-b7b8ac10-219c-4399-aa39-fed860471909 .text-overlay .color-1 text{fill:black}\n",
       "#chart-b7b8ac10-219c-4399-aa39-fed860471909 text.no_data{text-anchor:middle}#chart-b7b8ac10-219c-4399-aa39-fed860471909 .guide.line{fill:none}#chart-b7b8ac10-219c-4399-aa39-fed860471909 .centered{text-anchor:middle}#chart-b7b8ac10-219c-4399-aa39-fed860471909 .title{text-anchor:middle}#chart-b7b8ac10-219c-4399-aa39-fed860471909 .legends .legend text{fill-opacity:1}#chart-b7b8ac10-219c-4399-aa39-fed860471909 .axis.x text{text-anchor:middle}#chart-b7b8ac10-219c-4399-aa39-fed860471909 .axis.x:not(.web) text[transform]{text-anchor:start}#chart-b7b8ac10-219c-4399-aa39-fed860471909 .axis.x:not(.web) text[transform].backwards{text-anchor:end}#chart-b7b8ac10-219c-4399-aa39-fed860471909 .axis.y text{text-anchor:end}#chart-b7b8ac10-219c-4399-aa39-fed860471909 .axis.y text[transform].backwards{text-anchor:start}#chart-b7b8ac10-219c-4399-aa39-fed860471909 .axis.y2 text{text-anchor:start}#chart-b7b8ac10-219c-4399-aa39-fed860471909 .axis.y2 text[transform].backwards{text-anchor:end}#chart-b7b8ac10-219c-4399-aa39-fed860471909 .axis .guide.line{stroke-dasharray:4,4;stroke:black}#chart-b7b8ac10-219c-4399-aa39-fed860471909 .axis .major.guide.line{stroke-dasharray:6,6;stroke:black}#chart-b7b8ac10-219c-4399-aa39-fed860471909 .horizontal .axis.y .guide.line,#chart-b7b8ac10-219c-4399-aa39-fed860471909 .horizontal .axis.y2 .guide.line,#chart-b7b8ac10-219c-4399-aa39-fed860471909 .vertical .axis.x .guide.line{opacity:0}#chart-b7b8ac10-219c-4399-aa39-fed860471909 .horizontal .axis.always_show .guide.line,#chart-b7b8ac10-219c-4399-aa39-fed860471909 .vertical .axis.always_show .guide.line{opacity:1 !important}#chart-b7b8ac10-219c-4399-aa39-fed860471909 .axis.y .guides:hover .guide.line,#chart-b7b8ac10-219c-4399-aa39-fed860471909 .axis.y2 .guides:hover .guide.line,#chart-b7b8ac10-219c-4399-aa39-fed860471909 .axis.x .guides:hover .guide.line{opacity:1}#chart-b7b8ac10-219c-4399-aa39-fed860471909 .axis .guides:hover text{opacity:1}#chart-b7b8ac10-219c-4399-aa39-fed860471909 .nofill{fill:none}#chart-b7b8ac10-219c-4399-aa39-fed860471909 .subtle-fill{fill-opacity:.2}#chart-b7b8ac10-219c-4399-aa39-fed860471909 .dot{stroke-width:1px;fill-opacity:1;stroke-opacity:1}#chart-b7b8ac10-219c-4399-aa39-fed860471909 .dot.active{stroke-width:5px}#chart-b7b8ac10-219c-4399-aa39-fed860471909 .dot.negative{fill:transparent}#chart-b7b8ac10-219c-4399-aa39-fed860471909 text,#chart-b7b8ac10-219c-4399-aa39-fed860471909 tspan{stroke:none !important}#chart-b7b8ac10-219c-4399-aa39-fed860471909 .series text.active{opacity:1}#chart-b7b8ac10-219c-4399-aa39-fed860471909 .tooltip rect{fill-opacity:.95;stroke-width:.5}#chart-b7b8ac10-219c-4399-aa39-fed860471909 .tooltip text{fill-opacity:1}#chart-b7b8ac10-219c-4399-aa39-fed860471909 .showable{visibility:hidden}#chart-b7b8ac10-219c-4399-aa39-fed860471909 .showable.shown{visibility:visible}#chart-b7b8ac10-219c-4399-aa39-fed860471909 .gauge-background{fill:rgba(229,229,229,1);stroke:none}#chart-b7b8ac10-219c-4399-aa39-fed860471909 .bg-lines{stroke:rgba(249,249,249,1);stroke-width:2px}</style><script type=\"text/javascript\">window.pygal = window.pygal || {};window.pygal.config = window.pygal.config || {};window.pygal.config['b7b8ac10-219c-4399-aa39-fed860471909'] = {\"allow_interruptions\": false, \"box_mode\": \"extremes\", \"classes\": [\"pygal-chart\"], \"css\": [\"file://style.css\", \"file://graph.css\"], \"defs\": [], \"disable_xml_declaration\": false, \"dots_size\": 2.5, \"dynamic_print_values\": false, \"explicit_size\": false, \"fill\": false, \"force_uri_protocol\": \"https\", \"formatter\": null, \"half_pie\": false, \"height\": 600, \"include_x_axis\": false, \"inner_radius\": 0, \"interpolate\": null, \"interpolation_parameters\": {}, \"interpolation_precision\": 250, \"inverse_y_axis\": false, \"js\": [\"//kozea.github.io/pygal.js/2.0.x/pygal-tooltips.min.js\"], \"legend_at_bottom\": false, \"legend_at_bottom_columns\": null, \"legend_box_size\": 12, \"logarithmic\": false, \"margin\": 20, \"margin_bottom\": null, \"margin_left\": null, \"margin_right\": null, \"margin_top\": null, \"max_scale\": 16, \"min_scale\": 4, \"missing_value_fill_truncation\": \"x\", \"no_data_text\": \"No data\", \"no_prefix\": false, \"order_min\": null, \"pretty_print\": false, \"print_labels\": false, \"print_values\": false, \"print_values_position\": \"center\", \"print_zeroes\": true, \"range\": null, \"rounded_bars\": null, \"secondary_range\": null, \"show_dots\": true, \"show_legend\": true, \"show_minor_x_labels\": true, \"show_minor_y_labels\": true, \"show_only_major_dots\": false, \"show_x_guides\": false, \"show_x_labels\": true, \"show_y_guides\": true, \"show_y_labels\": true, \"spacing\": 10, \"stack_from_top\": false, \"strict\": false, \"stroke\": true, \"stroke_style\": null, \"style\": {\"background\": \"rgba(249, 249, 249, 1)\", \"ci_colors\": [], \"colors\": [\"#F44336\", \"#3F51B5\", \"#009688\", \"#FFC107\", \"#FF5722\", \"#9C27B0\", \"#03A9F4\", \"#8BC34A\", \"#FF9800\", \"#E91E63\", \"#2196F3\", \"#4CAF50\", \"#FFEB3B\", \"#673AB7\", \"#00BCD4\", \"#CDDC39\", \"#9E9E9E\", \"#607D8B\"], \"dot_opacity\": \"1\", \"font_family\": \"Consolas, \\\"Liberation Mono\\\", Menlo, Courier, monospace\", \"foreground\": \"rgba(0, 0, 0, .87)\", \"foreground_strong\": \"rgba(0, 0, 0, 1)\", \"foreground_subtle\": \"rgba(0, 0, 0, .54)\", \"guide_stroke_color\": \"black\", \"guide_stroke_dasharray\": \"4,4\", \"label_font_family\": \"Consolas, \\\"Liberation Mono\\\", Menlo, Courier, monospace\", \"label_font_size\": 10, \"legend_font_family\": \"Consolas, \\\"Liberation Mono\\\", Menlo, Courier, monospace\", \"legend_font_size\": 14, \"major_guide_stroke_color\": \"black\", \"major_guide_stroke_dasharray\": \"6,6\", \"major_label_font_family\": \"Consolas, \\\"Liberation Mono\\\", Menlo, Courier, monospace\", \"major_label_font_size\": 10, \"no_data_font_family\": \"Consolas, \\\"Liberation Mono\\\", Menlo, Courier, monospace\", \"no_data_font_size\": 64, \"opacity\": \".7\", \"opacity_hover\": \".8\", \"plot_background\": \"rgba(255, 255, 255, 1)\", \"stroke_opacity\": \".8\", \"stroke_opacity_hover\": \".9\", \"stroke_width\": \"1\", \"stroke_width_hover\": \"4\", \"title_font_family\": \"Consolas, \\\"Liberation Mono\\\", Menlo, Courier, monospace\", \"title_font_size\": 16, \"tooltip_font_family\": \"Consolas, \\\"Liberation Mono\\\", Menlo, Courier, monospace\", \"tooltip_font_size\": 14, \"transition\": \"150ms\", \"value_background\": \"rgba(229, 229, 229, 1)\", \"value_colors\": [], \"value_font_family\": \"Consolas, \\\"Liberation Mono\\\", Menlo, Courier, monospace\", \"value_font_size\": 16, \"value_label_font_family\": \"Consolas, \\\"Liberation Mono\\\", Menlo, Courier, monospace\", \"value_label_font_size\": 10}, \"title\": \"US vs Europe Wins per Match\", \"tooltip_border_radius\": 0, \"tooltip_fancy_mode\": true, \"truncate_label\": null, \"truncate_legend\": null, \"width\": 800, \"x_label_rotation\": 30, \"x_labels\": [\"Singles Wins\", \"Singles Loss\", \"Single Halves\", \"Foursome Wins\", \"Foursome Loss\", \"Foursome Halves\", \"Fourball Win\", \"Fourball Loss\", \"Fourball Halves\"], \"x_labels_major\": null, \"x_labels_major_count\": null, \"x_labels_major_every\": null, \"x_title\": null, \"xrange\": null, \"y_label_rotation\": 0, \"y_labels\": null, \"y_labels_major\": null, \"y_labels_major_count\": null, \"y_labels_major_every\": null, \"y_title\": null, \"zero\": 0, \"legends\": [\"USA\", \"Europe\"]}</script><script type=\"text/javascript\" xlink:href=\"https://kozea.github.io/pygal.js/2.0.x/pygal-tooltips.min.js\"/></defs><title>US vs Europe Wins per Match</title><g class=\"graph dot-graph vertical\"><rect x=\"0\" y=\"0\" width=\"800\" height=\"600\" class=\"background\"/><g transform=\"translate(138, 46)\" class=\"plot\"><rect x=\"0\" y=\"0\" width=\"583.6577136594005\" height=\"479.0\" class=\"background\"/><g class=\"axis y always_show\"><path d=\"M0.000000 479.000000 h583.657714\" class=\"line\"/><g class=\"guides\"><path d=\"M0.000000 124.355769 h583.657714\" class=\"guide line\"/><text x=\"-5\" y=\"127.85576923076928\" class=\"\">USA</text><title>1.5</title></g><g class=\"guides\"><path d=\"M0.000000 354.644231 h583.657714\" class=\"guide line\"/><text x=\"-5\" y=\"358.1442307692308\" class=\"\">Europe</text><title>0.5</title></g></g><g class=\"axis x\"><path d=\"M0.000000 0.000000 v479.000000\" class=\"line\"/><g class=\"guides\"><path d=\"M42.402483 0.000000 v479.000000\" class=\"guide line\"/><text x=\"42.402483470982084\" y=\"494.0\" class=\"\" transform=\"rotate(30 42.402483 494.000000)\">Singles Wins</text></g><g class=\"guides\"><path d=\"M104.759077 0.000000 v479.000000\" class=\"guide line\"/><text x=\"104.75907681066164\" y=\"494.0\" class=\"\" transform=\"rotate(30 104.759077 494.000000)\">Singles Loss</text></g><g class=\"guides\"><path d=\"M167.115670 0.000000 v479.000000\" class=\"guide line\"/><text x=\"167.1156701503412\" y=\"494.0\" class=\"\" transform=\"rotate(30 167.115670 494.000000)\">Single Halves</text></g><g class=\"guides\"><path d=\"M229.472263 0.000000 v479.000000\" class=\"guide line\"/><text x=\"229.47226349002077\" y=\"494.0\" class=\"\" transform=\"rotate(30 229.472263 494.000000)\">Foursome Wins</text></g><g class=\"guides\"><path d=\"M291.828857 0.000000 v479.000000\" class=\"guide line\"/><text x=\"291.82885682970027\" y=\"494.0\" class=\"\" transform=\"rotate(30 291.828857 494.000000)\">Foursome Loss</text></g><g class=\"guides\"><path d=\"M354.185450 0.000000 v479.000000\" class=\"guide line\"/><text x=\"354.1854501693798\" y=\"494.0\" class=\"\" transform=\"rotate(30 354.185450 494.000000)\">Foursome Halves</text></g><g class=\"guides\"><path d=\"M416.542044 0.000000 v479.000000\" class=\"guide line\"/><text x=\"416.54204350905934\" y=\"494.0\" class=\"\" transform=\"rotate(30 416.542044 494.000000)\">Fourball Win</text></g><g class=\"guides\"><path d=\"M478.898637 0.000000 v479.000000\" class=\"guide line\"/><text x=\"478.89863684873893\" y=\"494.0\" class=\"\" transform=\"rotate(30 478.898637 494.000000)\">Fourball Loss</text></g><g class=\"guides\"><path d=\"M541.255230 0.000000 v479.000000\" class=\"guide line\"/><text x=\"541.2552301884185\" y=\"494.0\" class=\"\" transform=\"rotate(30 541.255230 494.000000)\">Fourball Halves</text></g></g><g class=\"series serie-0 color-0\"><g class=\"dots\"><circle cx=\"42.402483470982084\" cy=\"124.35576923076928\" r=\"12.56268363986218\" class=\"dot reactive tooltip-trigger\"/><desc class=\"value\">11</desc><desc class=\"x centered\">42.402483470982084</desc><desc class=\"y centered\">124.35576923076928</desc><desc class=\"x_label\">Singles Wins</desc></g><g class=\"dots\"><circle cx=\"104.75907681066164\" cy=\"124.35576923076928\" r=\"9.136497192627042\" class=\"dot reactive tooltip-trigger\"/><desc class=\"value\">8</desc><desc class=\"x centered\">104.75907681066164</desc><desc class=\"y centered\">124.35576923076928</desc><desc class=\"x_label\">Singles Loss</desc></g><g class=\"dots\"><circle cx=\"167.1156701503412\" cy=\"124.35576923076928\" r=\"4.568248596313521\" class=\"dot reactive tooltip-trigger\"/><desc class=\"value\">4</desc><desc class=\"x centered\">167.1156701503412</desc><desc class=\"y centered\">124.35576923076928</desc><desc class=\"x_label\">Single Halves</desc></g><g class=\"dots\"><circle cx=\"229.47226349002077\" cy=\"124.35576923076928\" r=\"6.852372894470281\" class=\"dot reactive tooltip-trigger\"/><desc class=\"value\">6</desc><desc class=\"x centered\">229.47226349002077</desc><desc class=\"y centered\">124.35576923076928</desc><desc class=\"x_label\">Foursome Wins</desc></g><g class=\"dots\"><circle cx=\"291.82885682970027\" cy=\"124.35576923076928\" r=\"12.56268363986218\" class=\"dot reactive tooltip-trigger\"/><desc class=\"value\">11</desc><desc class=\"x centered\">291.82885682970027</desc><desc class=\"y centered\">124.35576923076928</desc><desc class=\"x_label\">Foursome Loss</desc></g><g class=\"dots\"><circle cx=\"354.1854501693798\" cy=\"124.35576923076928\" r=\"14.84680793801894\" class=\"dot reactive tooltip-trigger\"/><desc class=\"value\">13</desc><desc class=\"x centered\">354.1854501693798</desc><desc class=\"y centered\">124.35576923076928</desc><desc class=\"x_label\">Foursome Halves</desc></g><g class=\"dots\"><circle cx=\"416.54204350905934\" cy=\"124.35576923076928\" r=\"2.2841242981567604\" class=\"dot reactive tooltip-trigger\"/><desc class=\"value\">2</desc><desc class=\"x centered\">416.54204350905934</desc><desc class=\"y centered\">124.35576923076928</desc><desc class=\"x_label\">Fourball Win</desc></g><g class=\"dots\"><circle cx=\"478.89863684873893\" cy=\"124.35576923076928\" r=\"11.420621490783802\" class=\"dot reactive tooltip-trigger\"/><desc class=\"value\">10</desc><desc class=\"x centered\">478.89863684873893</desc><desc class=\"y centered\">124.35576923076928</desc><desc class=\"x_label\">Fourball Loss</desc></g><g class=\"dots\"><circle cx=\"541.2552301884185\" cy=\"124.35576923076928\" r=\"11.420621490783802\" class=\"dot reactive tooltip-trigger\"/><desc class=\"value\">10</desc><desc class=\"x centered\">541.2552301884185</desc><desc class=\"y centered\">124.35576923076928</desc><desc class=\"x_label\">Fourball Halves</desc></g></g><g class=\"series serie-1 color-1\"><g class=\"dots\"><circle cx=\"42.402483470982084\" cy=\"354.6442307692308\" r=\"17.1309322361757\" class=\"dot reactive tooltip-trigger\"/><desc class=\"value\">15</desc><desc class=\"x centered\">42.402483470982084</desc><desc class=\"y centered\">354.6442307692308</desc><desc class=\"x_label\">Singles Wins</desc></g><g class=\"dots\"><circle cx=\"104.75907681066164\" cy=\"354.6442307692308\" r=\"11.420621490783802\" class=\"dot reactive tooltip-trigger\"/><desc class=\"value\">10</desc><desc class=\"x centered\">104.75907681066164</desc><desc class=\"y centered\">354.6442307692308</desc><desc class=\"x_label\">Singles Loss</desc></g><g class=\"dots\"><circle cx=\"167.1156701503412\" cy=\"354.6442307692308\" r=\"15.98887008709732\" class=\"dot reactive tooltip-trigger\"/><desc class=\"value\">14</desc><desc class=\"x centered\">167.1156701503412</desc><desc class=\"y centered\">354.6442307692308</desc><desc class=\"x_label\">Single Halves</desc></g><g class=\"dots\"><circle cx=\"229.47226349002077\" cy=\"354.6442307692308\" r=\"7.99443504354866\" class=\"dot reactive tooltip-trigger\"/><desc class=\"value\">7</desc><desc class=\"x centered\">229.47226349002077</desc><desc class=\"y centered\">354.6442307692308</desc><desc class=\"x_label\">Foursome Wins</desc></g><g class=\"dots\"><circle cx=\"291.82885682970027\" cy=\"354.6442307692308\" r=\"26.26742942880274\" class=\"dot reactive tooltip-trigger\"/><desc class=\"value\">23</desc><desc class=\"x centered\">291.82885682970027</desc><desc class=\"y centered\">354.6442307692308</desc><desc class=\"x_label\">Foursome Loss</desc></g><g class=\"dots\"><circle cx=\"354.1854501693798\" cy=\"354.6442307692308\" r=\"19.41505653433246\" class=\"dot reactive tooltip-trigger\"/><desc class=\"value\">17</desc><desc class=\"x centered\">354.1854501693798</desc><desc class=\"y centered\">354.6442307692308</desc><desc class=\"x_label\">Foursome Halves</desc></g><g class=\"dots\"><circle cx=\"416.54204350905934\" cy=\"354.6442307692308\" r=\"5.710310745391901\" class=\"dot reactive tooltip-trigger\"/><desc class=\"value\">5</desc><desc class=\"x centered\">416.54204350905934</desc><desc class=\"y centered\">354.6442307692308</desc><desc class=\"x_label\">Fourball Win</desc></g><g class=\"dots\"><circle cx=\"478.89863684873893\" cy=\"354.6442307692308\" r=\"29.69361587603788\" class=\"dot reactive tooltip-trigger\"/><desc class=\"value\">26</desc><desc class=\"x centered\">478.89863684873893</desc><desc class=\"y centered\">354.6442307692308</desc><desc class=\"x_label\">Fourball Loss</desc></g><g class=\"dots\"><circle cx=\"541.2552301884185\" cy=\"354.6442307692308\" r=\"19.41505653433246\" class=\"dot reactive tooltip-trigger\"/><desc class=\"value\">17</desc><desc class=\"x centered\">541.2552301884185</desc><desc class=\"y centered\">354.6442307692308</desc><desc class=\"x_label\">Fourball Halves</desc></g></g></g><g class=\"titles\"><text x=\"400.0\" y=\"26\" class=\"title plot_title\">US vs Europe Wins per Match</text></g><g transform=\"translate(138, 46)\" class=\"plot overlay\"><g class=\"series serie-0 color-0\"/><g class=\"series serie-1 color-1\"/></g><g transform=\"translate(138, 46)\" class=\"plot text-overlay\"><g class=\"series serie-0 color-0\"/><g class=\"series serie-1 color-1\"/></g><g transform=\"translate(138, 46)\" class=\"plot tooltip-overlay\"><g transform=\"translate(0 0)\" style=\"opacity: 0\" class=\"tooltip\"><rect rx=\"0\" ry=\"0\" width=\"0\" height=\"0\" class=\"tooltip-box\"/><g class=\"text\"/></g></g><g transform=\"translate(10, 56)\" class=\"legends\"><g id=\"activate-serie-0\" class=\"legend reactive activate-serie\"><rect x=\"0.0\" y=\"1.0\" width=\"12\" height=\"12\" class=\"color-0 reactive\"/><text x=\"17.0\" y=\"11.2\">USA</text></g><g id=\"activate-serie-1\" class=\"legend reactive activate-serie\"><rect x=\"0.0\" y=\"22.0\" width=\"12\" height=\"12\" class=\"color-1 reactive\"/><text x=\"17.0\" y=\"32.2\">Europe</text></g></g><g transform=\"translate(732, 56)\" class=\"legends\"/></g></svg>\n",
       "    </figure>\n",
       "  </body>\n",
       "</html>\n"
      ],
      "text/plain": [
       "<IPython.core.display.HTML object>"
      ]
     },
     "metadata": {},
     "output_type": "display_data"
    }
   ],
   "source": [
    "dot_chart = pygal.Dot(x_label_rotation=30)\n",
    "dot_chart.title = 'US vs Europe Wins per Match'\n",
    "dot_chart.x_labels = ['Singles Wins', 'Singles Loss', 'Single Halves',\n",
    "                      'Foursome Wins', 'Foursome Loss', 'Foursome Halves', 'Fourball Win', 'Fourball Loss', 'Fourball Halves' ]\n",
    "\n",
    "\n",
    "dot_chart.add('USA', [ 11, 8, 4, 6, 11, 13, 2, 10, 10])\n",
    "dot_chart.add('Europe', [ 15, 10, 14, 7, 23, 17, 5, 26, 17])\n",
    "\n",
    "display(HTML(base_html.format(rendered_chart=dot_chart.render(is_unicode=True))))"
   ]
  },
  {
   "cell_type": "markdown",
   "id": "a82744a0",
   "metadata": {},
   "source": [
    "## So who will win next? \n",
    "\n",
    "We have seen who composes each team and what their pedigree brings to the table.  Finally we will look at the all import poaints aspect to each player, and really see what matters most. "
   ]
  },
  {
   "cell_type": "code",
   "execution_count": 7,
   "id": "3cb5ff93",
   "metadata": {},
   "outputs": [
    {
     "data": {
      "image/png": "[encoded data removed]",
      "text/plain": [
       "<Figure size 800x640 with 1 Axes>"
      ]
     },
     "metadata": {
      "needs_background": "light"
     },
     "output_type": "display_data"
    }
   ],
   "source": [
    "Coloreu = (\"blue\")\n",
    "Colorus = (\"red\")\n",
    "figure(figsize=(10, 8), dpi=80)\n",
    "plt.style.use('ggplot')\n",
    "\n",
    "plt.title('Wins vs Points')\n",
    "plt.xlabel('Winis')\n",
    "plt.ylabel('Points')\n",
    "plt.scatter(x=experience_19eu['Points'],y=experience_19eu['Overall Wins'],s=100,c=Coloreu,alpha=0.6,marker='o')\n",
    "plt.scatter(x=experience_19US['Points'],y=experience_19US['Overall Wins'],s=100,c=Colorus,alpha=0.5,marker='h')\n",
    "\n",
    "\n",
    "\n",
    "\n",
    "plt.tight_layout()\n",
    "\n",
    "plt.show()\n"
   ]
  },
  {
   "cell_type": "markdown",
   "id": "7d258557",
   "metadata": {},
   "source": [
    "## Conclusion\n",
    "\n",
    "Both Europe and the USA are evenly matched when looking at the data. Factors rookies will bring into play will be the true tell on who has the upper hand in the 2019 Solheim Cup. If you too would like to review this data and do something with it yourself, the dataset can be found at this URL\n",
    "(https://data.world/sportsvizsunday/sep-2019-golf-solhiem-cup) , but an account must be\n",
    "created in order to use the data. "
   ]
  },
  {
   "cell_type": "markdown",
   "id": "7b3776d7",
   "metadata": {},
   "source": [
    "#### Works Cited\n",
    "\n",
    "Code help was found through Stack overflow and a multiude of inspirations. \n",
    "\n",
    "Help with using pygal was found here ( https://feststelltaste.github.io/software-analytics/notebooks/vis/experimental/pandas-pygal/effective_charting.html) in order to help me render the HTML ini Jupyter notebooks. \n",
    "\n",
    "And help with the Sortinig slider was aquired here ( https://towardsdatascience.com/interactive-controls-for-jupyter-notebooks-f5c94829aee6)"
   ]
  }
 ],
 "metadata": {
  "kernelspec": {
   "display_name": "Python 3",
   "language": "python",
   "name": "python3"
  },
  "language_info": {
   "codemirror_mode": {
    "name": "ipython",
    "version": 3
   },
   "file_extension": ".py",
   "mimetype": "text/x-python",
   "name": "python",
   "nbconvert_exporter": "python",
   "pygments_lexer": "ipython3",
   "version": "3.8.8"
  }
 },
 "nbformat": 4,
 "nbformat_minor": 5
}
